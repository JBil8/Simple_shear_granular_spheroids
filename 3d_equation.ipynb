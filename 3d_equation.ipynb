{
 "cells": [
  {
   "cell_type": "code",
   "execution_count": 1,
   "metadata": {},
   "outputs": [
    {
     "name": "stdout",
     "output_type": "stream",
     "text": [
      "u(θ, φ) =\n",
      "⎡sin(θ)⋅cos(φ)⎤\n",
      "⎢             ⎥\n",
      "⎢sin(φ)⋅sin(θ)⎥\n",
      "⎢             ⎥\n",
      "⎣   cos(θ)    ⎦\n",
      "\n",
      "u ⊗ u =\n",
      "⎡      2       2                  2                                ⎤\n",
      "⎢   sin (θ)⋅cos (φ)     sin(φ)⋅sin (θ)⋅cos(φ)  sin(θ)⋅cos(φ)⋅cos(θ)⎥\n",
      "⎢                                                                  ⎥\n",
      "⎢          2                  2       2                            ⎥\n",
      "⎢sin(φ)⋅sin (θ)⋅cos(φ)     sin (φ)⋅sin (θ)     sin(φ)⋅sin(θ)⋅cos(θ)⎥\n",
      "⎢                                                                  ⎥\n",
      "⎢                                                       2          ⎥\n",
      "⎣sin(θ)⋅cos(φ)⋅cos(θ)   sin(φ)⋅sin(θ)⋅cos(θ)         cos (θ)       ⎦\n",
      "\n",
      "<u ⊗ u> : (u ⊗ u) =\n",
      "       2       2                       2             M_xz⋅(-sin(φ - 2⋅θ) + sin ↪\n",
      "Mₓₓ⋅sin (θ)⋅cos (φ) + 2⋅M_xy⋅sin(φ)⋅sin (θ)⋅cos(φ) + ───────────────────────── ↪\n",
      "                                                                      2        ↪\n",
      "\n",
      "↪ (φ + 2⋅θ))           2       2      M_yz⋅(cos(φ - 2⋅θ) - cos(φ + 2⋅θ))       ↪\n",
      "↪ ────────── + M_yy⋅sin (φ)⋅sin (θ) + ────────────────────────────────── + M_z ↪\n",
      "↪                                                     2                        ↪\n",
      "\n",
      "↪      2   \n",
      "↪ z⋅cos (θ)\n",
      "↪          \n"
     ]
    }
   ],
   "source": [
    "import sympy as sp\n",
    "\n",
    "# --- Define symbols ---\n",
    "theta, phi = sp.symbols('theta phi', real=True)\n",
    "Mxx, Mxy, Mxz, Myy, Myz, Mzz = sp.symbols('M_xx M_xy M_xz M_yy M_yz M_zz', real=True)\n",
    "\n",
    "# --- Define unit vector u(θ, φ) in spherical coordinates ---\n",
    "ux = sp.sin(theta) * sp.cos(phi)\n",
    "uy = sp.sin(theta) * sp.sin(phi)\n",
    "uz = sp.cos(theta)\n",
    "u = sp.Matrix([ux, uy, uz])\n",
    "\n",
    "# --- Compute outer product u ⊗ u ---\n",
    "u_outer_u = u * u.T  # This gives a 3x3 matrix\n",
    "\n",
    "# --- Define symbolic second moment tensor <u ⊗ u> ---\n",
    "M = sp.Matrix([\n",
    "    [Mxx, Mxy, Mxz],\n",
    "    [Mxy, Myy, Myz],\n",
    "    [Mxz, Myz, Mzz]\n",
    "])\n",
    "\n",
    "# --- Compute contraction <u ⊗ u> : (u ⊗ u) = Tr(M · (u ⊗ u)) ---\n",
    "contraction = sp.simplify(sp.trace(M * u_outer_u))\n",
    "\n",
    "# --- Output ---\n",
    "print(\"u(θ, φ) =\")\n",
    "sp.pprint(u, use_unicode=True)\n",
    "\n",
    "print(\"\\nu ⊗ u =\")\n",
    "sp.pprint(u_outer_u, use_unicode=True)\n",
    "\n",
    "print(\"\\n<u ⊗ u> : (u ⊗ u) =\")\n",
    "sp.pprint(contraction, use_unicode=True)\n"
   ]
  },
  {
   "cell_type": "code",
   "execution_count": 14,
   "metadata": {},
   "outputs": [
    {
     "name": "stdout",
     "output_type": "stream",
     "text": [
      "\n",
      "<u ⊗ u> : (u ⊗ u) =\n",
      "                                                                                                    2       2      ⎛       2           ⎞    2      ⎛       2           ⎞    2       2   \n",
      "S⋅(cos(-2⋅α + φ + 2⋅θ) - cos(2⋅α - φ + 2⋅θ) + cos(2⋅α + φ - 2⋅θ) - cos(2⋅α + φ + 2⋅θ))   (1 - S)⋅sin (φ)⋅sin (θ)   ⎝3⋅S⋅sin (α) - S + 1⎠⋅cos (θ)   ⎝3⋅S⋅cos (α) - S + 1⎠⋅sin (θ)⋅cos (φ)\n",
      "────────────────────────────────────────────────────────────────────────────────────── + ─────────────────────── + ───────────────────────────── + ─────────────────────────────────────\n",
      "                                          8                                                         3                            3                                   3                  \n"
     ]
    }
   ],
   "source": [
    "import sympy as sp\n",
    "\n",
    "\n",
    "from sympy.simplify.fu import TR22, TR10, TR2, TR8, TR12, TR1\n",
    "\n",
    "# Apply known trigonometric rewrite rules manually\n",
    "def custom_full_simplify(expr):\n",
    "    expr = sp.expand_trig(expr)               # Expand cos(a ± b)\n",
    "    expr = sp.trigsimp(expr, method='fu')     # Full trigonometric simplification\n",
    "    expr = TR22(expr)                         # cos(a) - cos(b) rules\n",
    "    expr = TR10(expr)                         # sin(a)^2 + cos(a)^2 → 1\n",
    "    expr = TR1(expr)                          # sin^2, cos^2 → identities\n",
    "    expr = sp.simplify(expr)                  # General algebraic simplification\n",
    "    return expr\n",
    "\n",
    "\n",
    "# --- Define symbols ---\n",
    "theta, phi, alpha, S = sp.symbols('theta phi alpha S', real=True)\n",
    "\n",
    "\n",
    "\n",
    "# --- Define unit vector u(θ, φ) in spherical coordinates ---\n",
    "ux = sp.sin(theta) * sp.cos(phi)\n",
    "uy = sp.sin(theta) * sp.sin(phi)\n",
    "uz = sp.cos(theta)\n",
    "u = sp.Matrix([ux, uy, uz])\n",
    "\n",
    "# --- Compute outer product u ⊗ u ---\n",
    "u_outer_u = u * u.T  # This gives a 3x3 matrix\n",
    "\n",
    "# --- Define symbolic second moment tensor <u ⊗ u> ---\n",
    "M = sp.Matrix([\n",
    "    (1-S)*sp.eye(3)/3 +\n",
    "    S * sp.Matrix([\n",
    "        [sp.cos(alpha)**2, 0, sp.sin(alpha)*sp.cos(alpha)],\n",
    "        [0, 0, 0],\n",
    "        [sp.sin(alpha)*sp.cos(alpha), 0, sp.sin(alpha)**2]\n",
    "    ])\n",
    "\n",
    "])\n",
    "\n",
    "# --- Compute contraction <u ⊗ u> : (u ⊗ u) = Tr(M · (u ⊗ u)) ---\n",
    "contraction = sp.trace(M * u_outer_u)\n",
    "\n",
    "simplified_contraction = custom_full_simplify(contraction)\n",
    "\n",
    "\n",
    "# # --- Output ---\n",
    "# print(\"u(θ, φ) =\")\n",
    "# sp.pprint(u, use_unicode=True)\n",
    "\n",
    "# print(\"\\nu ⊗ u =\")\n",
    "# sp.pprint(u_outer_u, use_unicode=True)\n",
    "\n",
    "# print(\"\\n M =\")\n",
    "# sp.pprint(M, use_unicode=True)\n",
    "\n",
    "\n",
    "print(\"\\n<u ⊗ u> : (u ⊗ u) =\")\n",
    "sp.pprint(simplified_contraction, use_unicode=True, wrap_line=False)\n",
    "\n",
    "\n"
   ]
  },
  {
   "cell_type": "code",
   "execution_count": 10,
   "metadata": {},
   "outputs": [
    {
     "name": "stdout",
     "output_type": "stream",
     "text": [
      "2*sin(a)*sin(b)\n"
     ]
    }
   ],
   "source": [
    "from sympy import symbols, cos, sin, simplify\n",
    "\n",
    "a, b = symbols('a b', real=True)\n",
    "expr = cos(a - b) - cos(a + b)\n",
    "\n",
    "simplified = simplify(expr)\n",
    "print(simplified)  # Outputs: 2*sin(a)*sin(b)\n"
   ]
  },
  {
   "cell_type": "code",
   "execution_count": null,
   "metadata": {},
   "outputs": [],
   "source": []
  }
 ],
 "metadata": {
  "kernelspec": {
   "display_name": "Python (jupyter-env)",
   "language": "python",
   "name": "jupyter-env"
  },
  "language_info": {
   "codemirror_mode": {
    "name": "ipython",
    "version": 3
   },
   "file_extension": ".py",
   "mimetype": "text/x-python",
   "name": "python",
   "nbconvert_exporter": "python",
   "pygments_lexer": "ipython3",
   "version": "3.12.3"
  }
 },
 "nbformat": 4,
 "nbformat_minor": 2
}
